{
  "nbformat": 4,
  "nbformat_minor": 0,
  "metadata": {
    "colab": {
      "name": "texto.ipynb",
      "version": "0.3.2",
      "provenance": [],
      "collapsed_sections": [],
      "include_colab_link": true
    },
    "language_info": {
      "codemirror_mode": {
        "name": "ipython",
        "version": 3
      },
      "file_extension": ".py",
      "mimetype": "text/x-python",
      "name": "python",
      "nbconvert_exporter": "python",
      "pygments_lexer": "ipython3",
      "version": "3.6.7"
    },
    "kernelspec": {
      "display_name": "Python 3",
      "language": "python",
      "name": "python3"
    }
  },
  "cells": [
    {
      "cell_type": "markdown",
      "metadata": {
        "id": "view-in-github",
        "colab_type": "text"
      },
      "source": [
        "<a href=\"https://colab.research.google.com/github/lfsalazarz/Computer-Vision-Basics-with-Python-Keras-and-OpenCV/blob/master/texto.ipynb\" target=\"_parent\"><img src=\"https://colab.research.google.com/assets/colab-badge.svg\" alt=\"Open In Colab\"/></a>"
      ]
    },
    {
      "cell_type": "markdown",
      "metadata": {
        "id": "d3XpCw2a2oUW",
        "colab_type": "text"
      },
      "source": [
        "# Título\n",
        "\n",
        "Lorem ipsum dolor sit amet, consectetur adipiscing elit, sed do eiusmod tempor incididunt ut labore et dolore magna aliqua.\n",
        "\n",
        "## Sección\n",
        "\n",
        "Lorem ipsum dolor sit amet, consectetur adipiscing elit, sed do eiusmod tempor incididunt ut labore et dolore magna aliqua.\n",
        "\n",
        "### Subsección\n",
        "\n",
        "Lorem ipsum dolor sit amet, consectetur adipiscing elit, sed do eiusmod tempor incididunt ut labore et dolore magna aliqua.\n",
        "\n",
        "1. Lorem ipsum dolor sit amet, consectetur adipiscing elit, sed do eiusmod tempor incididunt ut labore et dolore magna aliqua.\n",
        "2. Lorem ipsum dolor sit amet, consectetur adipiscing elit, sed do eiusmod tempor incididunt ut labore et dolore magna aliqua.\n",
        "3. Lorem ipsum dolor sit amet, consectetur adipiscing elit, sed do eiusmod tempor incididunt ut labore et dolore magna aliqua.  \n",
        "\n",
        "\n",
        "* Lorem ipsum dolor sit amet, consectetur adipiscing elit, sed do eiusmod tempor incididunt ut labore et dolore magna aliqua.\n",
        "    * Lorem ipsum dolor sit amet, consectetur adipiscing elit, sed do eiusmod tempor incididunt ut labore et dolore magna aliqua.\n",
        "\n",
        "* Lorem ipsum dolor sit amet, consectetur adipiscing elit, sed do eiusmod tempor incididunt ut labore et dolore magna aliqua.\n",
        "    * Lorem ipsum dolor sit amet, consectetur adipiscing elit, sed do eiusmod tempor incididunt ut labore et dolore magna aliqua.\n",
        "    * Lorem ipsum dolor sit amet, consectetur adipiscing elit, sed do eiusmod tempor incididunt ut labore et dolore magna aliqua.\n",
        "\n",
        "* Lorem ipsum dolor sit amet, consectetur adipiscing elit, sed do eiusmod tempor incididunt ut labore et dolore magna aliqua."
      ]
    },
    {
      "cell_type": "markdown",
      "metadata": {
        "id": "UjwF7u0v2oUZ",
        "colab_type": "text"
      },
      "source": [
        "Lorem ipsum dolor sit amet, consectetur adipiscing elit, sed do eiusmod tempor incididunt ut labore et dolore magna aliqua. $x^2$ $$x = ax + b $$\n",
        "Lorem ipsum dolor sit amet: $$\\frac{1}{N}$$\n"
      ]
    },
    {
      "cell_type": "markdown",
      "metadata": {
        "id": "UJFHRV9h2oUc",
        "colab_type": "text"
      },
      "source": [
        "Vínculo a la [unal](http://medellin.unal.edu.co)"
      ]
    },
    {
      "cell_type": "markdown",
      "metadata": {
        "id": "kERsZlSb2oUe",
        "colab_type": "text"
      },
      "source": [
        "![imagen](https://cdn-images-1.medium.com/max/1600/1*ZB6H4HuF58VcMOWbdpcRxQ.png)"
      ]
    },
    {
      "cell_type": "markdown",
      "metadata": {
        "id": "X2vT3j0E2oUf",
        "colab_type": "text"
      },
      "source": [
        "<img src=\"https://cdn-images-1.medium.com/max/1200/1*eBMwpBBboAXgqsawwOKkPw.png\" alt=\"img\" width=600></img>"
      ]
    },
    {
      "cell_type": "markdown",
      "metadata": {
        "id": "3gbYnd3h2oUh",
        "colab_type": "text"
      },
      "source": [
        "| col 1 | col 2 | col 3 |\n",
        "|:--:|:---|---:|\n",
        "| 1 | 2 | 3 | \n",
        "| 1 | 2 | 3 | \n",
        "| 1 | 2 | 3 | \n",
        "| 1 | 2 | 3 | "
      ]
    },
    {
      "cell_type": "markdown",
      "metadata": {
        "id": "hYbfni042oUi",
        "colab_type": "text"
      },
      "source": [
        "~~~python\n",
        ">>> import pandas as pd\n",
        ">>> import numpy as np\n",
        "~~~"
      ]
    }
  ]
}